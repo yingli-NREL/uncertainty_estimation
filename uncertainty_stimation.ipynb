{
 "cells": [
  {
   "cell_type": "code",
   "execution_count": 3,
   "id": "0be59004",
   "metadata": {},
   "outputs": [
    {
     "name": "stdout",
     "output_type": "stream",
     "text": [
      "We have 95.0% confidence that the true population mean is between 0.56 and 1.01\n"
     ]
    },
    {
     "name": "stderr",
     "output_type": "stream",
     "text": [
      "C:\\Users\\ylou2\\AppData\\Local\\Temp\\1\\ipykernel_18816\\198315479.py:11: DeprecationWarning: Use of keyword argument `alpha` for method `interval` is deprecated. Use first positional argument or keyword argument `confidence` instead.\n",
      "  low_boundary, high_boundary = scipy.stats.norm.interval(alpha=confidence_level,\n"
     ]
    }
   ],
   "source": [
    "import pandas as pd\n",
    "import numpy as np\n",
    "import scipy\n",
    "\n",
    "# define condidence level\n",
    "confidence_level = 0.95\n",
    "\n",
    "df = pd.read_csv('data.csv')\n",
    "data = df['annual_bill_savings']\n",
    "\n",
    "low_boundary, high_boundary = scipy.stats.norm.interval(alpha=confidence_level,\n",
    "                                                        loc=data.mean(),\n",
    "                                                        scale=scipy.stats.sem(data)) \n",
    "low_boundary = np.round(low_boundary,2)\n",
    "high_boundary = np.round(high_boundary,2)\n",
    "print(f'We have {confidence_level*100}% confidence \\\n",
    "that the true population mean is between {low_boundary} and {high_boundary}')"
   ]
  },
  {
   "cell_type": "code",
   "execution_count": null,
   "id": "52e52e90",
   "metadata": {},
   "outputs": [],
   "source": []
  }
 ],
 "metadata": {
  "kernelspec": {
   "display_name": "Python 3 (ipykernel)",
   "language": "python",
   "name": "python3"
  },
  "language_info": {
   "codemirror_mode": {
    "name": "ipython",
    "version": 3
   },
   "file_extension": ".py",
   "mimetype": "text/x-python",
   "name": "python",
   "nbconvert_exporter": "python",
   "pygments_lexer": "ipython3",
   "version": "3.9.13"
  }
 },
 "nbformat": 4,
 "nbformat_minor": 5
}
